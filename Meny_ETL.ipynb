{
 "cells": [
  {
   "cell_type": "markdown",
   "id": "2b93d4b9",
   "metadata": {},
   "source": [
    "# ETL JSON\n"
   ]
  },
  {
   "cell_type": "markdown",
   "id": "febfccd8",
   "metadata": {},
   "source": [
    "## About data converting:\n",
    "\n",
    "| Source | Typical Format | Notes |\n",
    "|--------|---------------|-------|\n",
    "| APIs | JSON, XML | Almost always hierarchical; needs flattening into DataFrame or table for analysis |\n",
    "| Web scraping | HTML, JSON, CSV | Usually converted into DataFrames for processing |\n",
    "| Logs | JSON, plain text, CSV | Parsed and structured into DataFrames or database tables |\n",
    "| Files from partners | Excel, CSV, JSON, Parquet | Some may already be tabular (CSV/Excel/Parquet), some need transformation |\n",
    "| Databases | SQL tables | Already structured; can be queried directly into DataFrame without conversion |"
   ]
  },
  {
   "cell_type": "code",
   "execution_count": 5,
   "id": "9eb0c364",
   "metadata": {},
   "outputs": [],
   "source": [
    "import json\n",
    "import pandas as pd\n",
    "\n",
    "INPUT_FILE = \"gsr_pos_logs.json\"\n",
    "OUTPUT_CSV = \"gsr_pos_logs_cleaned.csv\""
   ]
  },
  {
   "cell_type": "code",
   "execution_count": 6,
   "id": "8f5435af",
   "metadata": {},
   "outputs": [
    {
     "name": "stdout",
     "output_type": "stream",
     "text": [
      "c:\\Users\\User\\AppData\\Local\\Programs\\Python\\Python313\\python.exe\n"
     ]
    }
   ],
   "source": [
    "import sys\n",
    "print(sys.executable)\n"
   ]
  },
  {
   "cell_type": "code",
   "execution_count": 9,
   "id": "96aef1c0",
   "metadata": {},
   "outputs": [
    {
     "name": "stdout",
     "output_type": "stream",
     "text": [
      "<class 'list'>\n",
      "{'order_id': 120000, 'store_id': 102, 'transaction_datetime': '2025-07-05 06:14:08', 'business_day': '2025-07-05', 'daypart': 'Breakfast', 'service_mode': 'Drive-Thru', 'menu_item': 'Bottled Water', 'modifier': None, 'quantity': 1, 'unit_price': 1.48, 'discount': 0.15, 'tax': 0.1, 'total_amount': 1.43, 'payment_type': 'Cash'}\n"
     ]
    }
   ],
   "source": [
    "with open(\"qsr_pos_logs.json\", \"r\") as file:\n",
    "    data = json.load(file)\n",
    "    print(type(data))  # Check the type of data\n",
    "    print(data[0])"
   ]
  },
  {
   "cell_type": "markdown",
   "id": "7a3c50f2",
   "metadata": {},
   "source": [
    "## from AI: full mini-ETL to process json"
   ]
  },
  {
   "cell_type": "code",
   "execution_count": 10,
   "id": "3e708ad8",
   "metadata": {},
   "outputs": [
    {
     "name": "stdout",
     "output_type": "stream",
     "text": [
      "ETL completed successfully!\n",
      "   order_id  store_id transaction_datetime business_day    daypart  \\\n",
      "0    120000       102  2025-07-05 06:14:08   2025-07-05  Breakfast   \n",
      "1    120001       201  2025-07-05 11:48:51   2025-07-05      Lunch   \n",
      "2    120002       403  2025-04-13 08:05:35   2025-04-13  Breakfast   \n",
      "3    120003       301  2025-06-25 06:42:17   2025-06-25  Breakfast   \n",
      "4    120004       301  2025-08-01 12:58:36   2025-08-01      Lunch   \n",
      "\n",
      "  service_mode            menu_item   modifier  quantity  unit_price  \\\n",
      "0   Drive-Thru        Bottled Water       None         1        1.48   \n",
      "1      Dine-In     Chicken Sandwich       None         1        5.34   \n",
      "2      Takeout        Bottled Water  Light Ice         1        1.49   \n",
      "3   Drive-Thru           Egg Muffin  No Cheese         1        3.62   \n",
      "4   Drive-Thru  Spicy Chicken Combo       None         2        9.17   \n",
      "\n",
      "   discount   tax  total_amount payment_type  \n",
      "0      0.15  0.10          1.43         Cash  \n",
      "1      0.00  0.45          5.79         Card  \n",
      "2      0.15  0.10          1.44         Cash  \n",
      "3      0.00  0.34          3.96         Cash  \n",
      "4      0.00  1.38         19.72         Card  \n"
     ]
    }
   ],
   "source": [
    "def extract(file_path):\n",
    "    \"\"\"Read JSON file and return Python data structure\"\"\"\n",
    "    with open(file_path, \"r\") as f:\n",
    "        data = json.load(f)\n",
    "    return data\n",
    "\n",
    "def transform(data):\n",
    "    \"\"\"Convert JSON to DataFrame and clean/flatten\"\"\"\n",
    "    # Flatten nested JSON if needed\n",
    "    df = pd.json_normalize(data)\n",
    "    \n",
    "    # Example transformation: convert datetime column\n",
    "    if 'transaction_datetime' in df.columns:\n",
    "        df['transaction_datetime'] = pd.to_datetime(df['transaction_datetime'])\n",
    "    \n",
    "    # You can add more transformations here (e.g., renaming columns, filtering)\n",
    "    return df\n",
    "\n",
    "def load(df, output_path_csv=None, output_path_excel=None):\n",
    "    \"\"\"Save DataFrame to CSV or Excel\"\"\"\n",
    "    if output_path_csv:\n",
    "        df.to_csv(output_path_csv, index=False)\n",
    "    if output_path_excel:\n",
    "        df.to_excel(output_path_excel, index=False)\n",
    "\n",
    "def etl_pipeline(input_file, output_csv=None, output_excel=None):\n",
    "    \"\"\"Full ETL process\"\"\"\n",
    "    data = extract(input_file)\n",
    "    df = transform(data)\n",
    "    load(df, output_csv, output_excel)\n",
    "    print(\"ETL completed successfully!\")\n",
    "    return df\n",
    "\n",
    "# Example usage\n",
    "if __name__ == \"__main__\":\n",
    "    df_result = etl_pipeline(\n",
    "        input_file=\"qsr_pos_logs.json\",\n",
    "        output_csv=\"qsr_pos_logs_cleaned.csv\"\n",
    "    )\n",
    "    print(df_result.head())\n"
   ]
  }
 ],
 "metadata": {
  "kernelspec": {
   "display_name": "Python 3",
   "language": "python",
   "name": "python3"
  },
  "language_info": {
   "codemirror_mode": {
    "name": "ipython",
    "version": 3
   },
   "file_extension": ".py",
   "mimetype": "text/x-python",
   "name": "python",
   "nbconvert_exporter": "python",
   "pygments_lexer": "ipython3",
   "version": "3.13.2"
  }
 },
 "nbformat": 4,
 "nbformat_minor": 5
}
