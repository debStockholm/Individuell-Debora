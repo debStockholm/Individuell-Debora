{
 "cells": [
  {
   "cell_type": "markdown",
   "id": "2b93d4b9",
   "metadata": {},
   "source": [
    "# ETL JSON\n",
    "\n",
    "CHEATSHEET\n"
   ]
  },
  {
   "cell_type": "markdown",
   "id": "febfccd8",
   "metadata": {},
   "source": [
    "## About data converting:\n",
    "\n",
    "| Source | Typical Format | Notes |\n",
    "|--------|---------------|-------|\n",
    "| APIs | JSON, XML | Almost always hierarchical; needs flattening into DataFrame or table for analysis |\n",
    "| Web scraping | HTML, JSON, CSV | Usually converted into DataFrames for processing |\n",
    "| Logs | JSON, plain text, CSV | Parsed and structured into DataFrames or database tables |\n",
    "| Files from partners | Excel, CSV, JSON, Parquet | Some may already be tabular (CSV/Excel/Parquet), some need transformation |\n",
    "| Databases | SQL tables | Already structured; can be queried directly into DataFrame without conversion |"
   ]
  },
  {
   "cell_type": "code",
   "execution_count": 9,
   "id": "9eb0c364",
   "metadata": {},
   "outputs": [],
   "source": [
    "import json\n",
    "import pandas as pd\n",
    "\n",
    "INPUT_FILE = \"gsr_pos_logs.json\"\n",
    "OUTPUT_CSV = \"gsr_pos_logs_cleaned.csv\""
   ]
  },
  {
   "cell_type": "code",
   "execution_count": 26,
   "id": "96aef1c0",
   "metadata": {},
   "outputs": [
    {
     "data": {
      "text/plain": [
       "list"
      ]
     },
     "metadata": {},
     "output_type": "display_data"
    },
    {
     "data": {
      "text/plain": [
       "{'order_id': 120008,\n",
       " 'store_id': 102,\n",
       " 'transaction_datetime': '2025-06-02 23:08:42',\n",
       " 'business_day': '2025-06-02',\n",
       " 'daypart': 'Late Night',\n",
       " 'service_mode': 'Delivery',\n",
       " 'menu_item': 'Chicken Sandwich',\n",
       " 'modifier': 'Extra Sauce',\n",
       " 'quantity': 2,\n",
       " 'unit_price': 5.22,\n",
       " 'discount': 0.0,\n",
       " 'tax': 0.79,\n",
       " 'total_amount': 11.73,\n",
       " 'payment_type': 'Card'}"
      ]
     },
     "metadata": {},
     "output_type": "display_data"
    }
   ],
   "source": [
    "with open(\"qsr_pos_logs.json\", \"r\") as file:\n",
    "    data = json.load(file)\n",
    "    display(type(data))  # Check the type of data\n",
    "    display(data[8])  # Display the 9th record to understand its structure"
   ]
  },
  {
   "cell_type": "markdown",
   "id": "7a3c50f2",
   "metadata": {},
   "source": [
    "## from AI: full mini-ETL to process json"
   ]
  },
  {
   "cell_type": "code",
   "execution_count": 12,
   "id": "3e708ad8",
   "metadata": {},
   "outputs": [
    {
     "name": "stdout",
     "output_type": "stream",
     "text": [
      "ETL completed successfully!\n"
     ]
    },
    {
     "data": {
      "text/html": [
       "<div>\n",
       "<style scoped>\n",
       "    .dataframe tbody tr th:only-of-type {\n",
       "        vertical-align: middle;\n",
       "    }\n",
       "\n",
       "    .dataframe tbody tr th {\n",
       "        vertical-align: top;\n",
       "    }\n",
       "\n",
       "    .dataframe thead th {\n",
       "        text-align: right;\n",
       "    }\n",
       "</style>\n",
       "<table border=\"1\" class=\"dataframe\">\n",
       "  <thead>\n",
       "    <tr style=\"text-align: right;\">\n",
       "      <th></th>\n",
       "      <th>order_id</th>\n",
       "      <th>store_id</th>\n",
       "      <th>transaction_datetime</th>\n",
       "      <th>business_day</th>\n",
       "      <th>daypart</th>\n",
       "      <th>service_mode</th>\n",
       "      <th>menu_item</th>\n",
       "      <th>modifier</th>\n",
       "      <th>quantity</th>\n",
       "      <th>unit_price</th>\n",
       "      <th>discount</th>\n",
       "      <th>tax</th>\n",
       "      <th>total_amount</th>\n",
       "      <th>payment_type</th>\n",
       "    </tr>\n",
       "  </thead>\n",
       "  <tbody>\n",
       "    <tr>\n",
       "      <th>0</th>\n",
       "      <td>120000</td>\n",
       "      <td>102</td>\n",
       "      <td>2025-07-05 06:14:08</td>\n",
       "      <td>2025-07-05</td>\n",
       "      <td>Breakfast</td>\n",
       "      <td>Drive-Thru</td>\n",
       "      <td>Bottled Water</td>\n",
       "      <td>None</td>\n",
       "      <td>1</td>\n",
       "      <td>1.48</td>\n",
       "      <td>0.15</td>\n",
       "      <td>0.10</td>\n",
       "      <td>1.43</td>\n",
       "      <td>Cash</td>\n",
       "    </tr>\n",
       "    <tr>\n",
       "      <th>1</th>\n",
       "      <td>120001</td>\n",
       "      <td>201</td>\n",
       "      <td>2025-07-05 11:48:51</td>\n",
       "      <td>2025-07-05</td>\n",
       "      <td>Lunch</td>\n",
       "      <td>Dine-In</td>\n",
       "      <td>Chicken Sandwich</td>\n",
       "      <td>None</td>\n",
       "      <td>1</td>\n",
       "      <td>5.34</td>\n",
       "      <td>0.00</td>\n",
       "      <td>0.45</td>\n",
       "      <td>5.79</td>\n",
       "      <td>Card</td>\n",
       "    </tr>\n",
       "    <tr>\n",
       "      <th>2</th>\n",
       "      <td>120002</td>\n",
       "      <td>403</td>\n",
       "      <td>2025-04-13 08:05:35</td>\n",
       "      <td>2025-04-13</td>\n",
       "      <td>Breakfast</td>\n",
       "      <td>Takeout</td>\n",
       "      <td>Bottled Water</td>\n",
       "      <td>Light Ice</td>\n",
       "      <td>1</td>\n",
       "      <td>1.49</td>\n",
       "      <td>0.15</td>\n",
       "      <td>0.10</td>\n",
       "      <td>1.44</td>\n",
       "      <td>Cash</td>\n",
       "    </tr>\n",
       "    <tr>\n",
       "      <th>3</th>\n",
       "      <td>120003</td>\n",
       "      <td>301</td>\n",
       "      <td>2025-06-25 06:42:17</td>\n",
       "      <td>2025-06-25</td>\n",
       "      <td>Breakfast</td>\n",
       "      <td>Drive-Thru</td>\n",
       "      <td>Egg Muffin</td>\n",
       "      <td>No Cheese</td>\n",
       "      <td>1</td>\n",
       "      <td>3.62</td>\n",
       "      <td>0.00</td>\n",
       "      <td>0.34</td>\n",
       "      <td>3.96</td>\n",
       "      <td>Cash</td>\n",
       "    </tr>\n",
       "    <tr>\n",
       "      <th>4</th>\n",
       "      <td>120004</td>\n",
       "      <td>301</td>\n",
       "      <td>2025-08-01 12:58:36</td>\n",
       "      <td>2025-08-01</td>\n",
       "      <td>Lunch</td>\n",
       "      <td>Drive-Thru</td>\n",
       "      <td>Spicy Chicken Combo</td>\n",
       "      <td>None</td>\n",
       "      <td>2</td>\n",
       "      <td>9.17</td>\n",
       "      <td>0.00</td>\n",
       "      <td>1.38</td>\n",
       "      <td>19.72</td>\n",
       "      <td>Card</td>\n",
       "    </tr>\n",
       "  </tbody>\n",
       "</table>\n",
       "</div>"
      ],
      "text/plain": [
       "   order_id  store_id transaction_datetime business_day    daypart  \\\n",
       "0    120000       102  2025-07-05 06:14:08   2025-07-05  Breakfast   \n",
       "1    120001       201  2025-07-05 11:48:51   2025-07-05      Lunch   \n",
       "2    120002       403  2025-04-13 08:05:35   2025-04-13  Breakfast   \n",
       "3    120003       301  2025-06-25 06:42:17   2025-06-25  Breakfast   \n",
       "4    120004       301  2025-08-01 12:58:36   2025-08-01      Lunch   \n",
       "\n",
       "  service_mode            menu_item   modifier  quantity  unit_price  \\\n",
       "0   Drive-Thru        Bottled Water       None         1        1.48   \n",
       "1      Dine-In     Chicken Sandwich       None         1        5.34   \n",
       "2      Takeout        Bottled Water  Light Ice         1        1.49   \n",
       "3   Drive-Thru           Egg Muffin  No Cheese         1        3.62   \n",
       "4   Drive-Thru  Spicy Chicken Combo       None         2        9.17   \n",
       "\n",
       "   discount   tax  total_amount payment_type  \n",
       "0      0.15  0.10          1.43         Cash  \n",
       "1      0.00  0.45          5.79         Card  \n",
       "2      0.15  0.10          1.44         Cash  \n",
       "3      0.00  0.34          3.96         Cash  \n",
       "4      0.00  1.38         19.72         Card  "
      ]
     },
     "metadata": {},
     "output_type": "display_data"
    }
   ],
   "source": [
    "def extract(file_path):\n",
    "    \"\"\"Read JSON file and return Python data structure\"\"\"\n",
    "    with open(file_path, \"r\") as f:\n",
    "        data = json.load(f)\n",
    "    return data\n",
    "\n",
    "def transform(data):\n",
    "    \"\"\"Convert JSON to DataFrame and clean/flatten\"\"\"\n",
    "    # Flatten nested JSON if needed\n",
    "    df = pd.json_normalize(data)\n",
    "    \n",
    "    # Example transformation: convert datetime column\n",
    "    if 'transaction_datetime' in df.columns:\n",
    "        df['transaction_datetime'] = pd.to_datetime(df['transaction_datetime'])\n",
    "    \n",
    "    # You can add more transformations here (e.g., renaming columns, filtering)\n",
    "    return df\n",
    "\n",
    "def load(df, output_path_csv=None, output_path_excel=None):\n",
    "    \"\"\"Save DataFrame to CSV or Excel\"\"\"\n",
    "    if output_path_csv:\n",
    "        df.to_csv(output_path_csv, index=False)\n",
    "    if output_path_excel:\n",
    "        df.to_excel(output_path_excel, index=False)\n",
    "\n",
    "def etl_pipeline(input_file, output_csv=None, output_excel=None):\n",
    "    \"\"\"Full ETL process\"\"\"\n",
    "    data = extract(input_file)\n",
    "    df = transform(data)\n",
    "    load(df, output_csv, output_excel)\n",
    "    print(\"ETL completed successfully!\")\n",
    "    return df\n",
    "\n",
    "# Example usage\n",
    "if __name__ == \"__main__\":\n",
    "    df_result = etl_pipeline(\n",
    "        input_file=\"qsr_pos_logs.json\",\n",
    "        output_csv=\"qsr_pos_logs_cleaned.csv\"\n",
    "    )\n",
    "display(df_result.head())\n"
   ]
  },
  {
   "cell_type": "markdown",
   "id": "ce365ecc",
   "metadata": {},
   "source": [
    "# Exploratory Data Analysis (EDA) Cheat Sheet (Basic)\n",
    "\n",
    "## 1. Basic Info\n",
    "```python\n",
    "df.shape                           # number of rows and columns\n",
    "df.columns                         # list column names\n",
    "df.info()                          # data types and non-null counts\n",
    "df.head()                          # first few rows\n",
    "df.tail()                          # last few rows\n",
    "df.count()                         # non-null values per column\n",
    "df['col'].count()                  # non-null values in a specific column\n",
    "df.dtypes                          # check data types\n",
    "df['col'] = df['col'].astype(float)# convert column type\n",
    "\n"
   ]
  },
  {
   "cell_type": "code",
   "execution_count": 85,
   "id": "b21e48f4",
   "metadata": {},
   "outputs": [
    {
     "data": {
      "text/plain": [
       "1743"
      ]
     },
     "metadata": {},
     "output_type": "display_data"
    },
    {
     "data": {
      "text/plain": [
       "(1743, 14)"
      ]
     },
     "metadata": {},
     "output_type": "display_data"
    },
    {
     "name": "stdout",
     "output_type": "stream",
     "text": [
      "Index(['order_id', 'store_id', 'transaction_datetime', 'business_day',\n",
      "       'daypart', 'service_mode', 'menu_item', 'modifier', 'quantity',\n",
      "       'unit_price', 'discount', 'tax', 'total_amount', 'payment_type'],\n",
      "      dtype='object')\n"
     ]
    },
    {
     "data": {
      "text/plain": [
       "14"
      ]
     },
     "metadata": {},
     "output_type": "display_data"
    },
    {
     "data": {
      "text/plain": [
       "1743"
      ]
     },
     "metadata": {},
     "output_type": "display_data"
    },
    {
     "name": "stdout",
     "output_type": "stream",
     "text": [
      "<class 'pandas.core.frame.DataFrame'>\n",
      "RangeIndex: 1743 entries, 0 to 1742\n",
      "Data columns (total 14 columns):\n",
      " #   Column                Non-Null Count  Dtype         \n",
      "---  ------                --------------  -----         \n",
      " 0   order_id              1743 non-null   int64         \n",
      " 1   store_id              1743 non-null   int64         \n",
      " 2   transaction_datetime  1743 non-null   datetime64[ns]\n",
      " 3   business_day          1743 non-null   object        \n",
      " 4   daypart               1743 non-null   object        \n",
      " 5   service_mode          1727 non-null   object        \n",
      " 6   menu_item             1743 non-null   object        \n",
      " 7   modifier              657 non-null    object        \n",
      " 8   quantity              1743 non-null   int64         \n",
      " 9   unit_price            1743 non-null   float64       \n",
      " 10  discount              1704 non-null   float64       \n",
      " 11  tax                   1726 non-null   float64       \n",
      " 12  total_amount          1732 non-null   float64       \n",
      " 13  payment_type          1702 non-null   object        \n",
      "dtypes: datetime64[ns](1), float64(4), int64(3), object(6)\n",
      "memory usage: 190.8+ KB\n"
     ]
    },
    {
     "data": {
      "text/plain": [
       "None"
      ]
     },
     "metadata": {},
     "output_type": "display_data"
    },
    {
     "data": {
      "text/html": [
       "<div>\n",
       "<style scoped>\n",
       "    .dataframe tbody tr th:only-of-type {\n",
       "        vertical-align: middle;\n",
       "    }\n",
       "\n",
       "    .dataframe tbody tr th {\n",
       "        vertical-align: top;\n",
       "    }\n",
       "\n",
       "    .dataframe thead th {\n",
       "        text-align: right;\n",
       "    }\n",
       "</style>\n",
       "<table border=\"1\" class=\"dataframe\">\n",
       "  <thead>\n",
       "    <tr style=\"text-align: right;\">\n",
       "      <th></th>\n",
       "      <th>order_id</th>\n",
       "      <th>store_id</th>\n",
       "      <th>transaction_datetime</th>\n",
       "      <th>business_day</th>\n",
       "      <th>daypart</th>\n",
       "      <th>service_mode</th>\n",
       "      <th>menu_item</th>\n",
       "      <th>modifier</th>\n",
       "      <th>quantity</th>\n",
       "      <th>unit_price</th>\n",
       "      <th>discount</th>\n",
       "      <th>tax</th>\n",
       "      <th>total_amount</th>\n",
       "      <th>payment_type</th>\n",
       "    </tr>\n",
       "  </thead>\n",
       "  <tbody>\n",
       "    <tr>\n",
       "      <th>count</th>\n",
       "      <td>1743.0</td>\n",
       "      <td>1743.0</td>\n",
       "      <td>1743</td>\n",
       "      <td>1743</td>\n",
       "      <td>1743</td>\n",
       "      <td>1727</td>\n",
       "      <td>1743</td>\n",
       "      <td>657</td>\n",
       "      <td>1743.0</td>\n",
       "      <td>1743.0</td>\n",
       "      <td>1704.0</td>\n",
       "      <td>1726.0</td>\n",
       "      <td>1732.0</td>\n",
       "      <td>1702</td>\n",
       "    </tr>\n",
       "    <tr>\n",
       "      <th>unique</th>\n",
       "      <td>NaN</td>\n",
       "      <td>NaN</td>\n",
       "      <td>NaN</td>\n",
       "      <td>121</td>\n",
       "      <td>6</td>\n",
       "      <td>4</td>\n",
       "      <td>30</td>\n",
       "      <td>24</td>\n",
       "      <td>NaN</td>\n",
       "      <td>NaN</td>\n",
       "      <td>NaN</td>\n",
       "      <td>NaN</td>\n",
       "      <td>NaN</td>\n",
       "      <td>4</td>\n",
       "    </tr>\n",
       "    <tr>\n",
       "      <th>top</th>\n",
       "      <td>NaN</td>\n",
       "      <td>NaN</td>\n",
       "      <td>NaN</td>\n",
       "      <td>2025-07-16</td>\n",
       "      <td>Lunch</td>\n",
       "      <td>Dine-In</td>\n",
       "      <td>Chicken Sandwich Combo</td>\n",
       "      <td>Extra Sauce</td>\n",
       "      <td>NaN</td>\n",
       "      <td>NaN</td>\n",
       "      <td>NaN</td>\n",
       "      <td>NaN</td>\n",
       "      <td>NaN</td>\n",
       "      <td>Card</td>\n",
       "    </tr>\n",
       "    <tr>\n",
       "      <th>freq</th>\n",
       "      <td>NaN</td>\n",
       "      <td>NaN</td>\n",
       "      <td>NaN</td>\n",
       "      <td>24</td>\n",
       "      <td>508</td>\n",
       "      <td>527</td>\n",
       "      <td>129</td>\n",
       "      <td>56</td>\n",
       "      <td>NaN</td>\n",
       "      <td>NaN</td>\n",
       "      <td>NaN</td>\n",
       "      <td>NaN</td>\n",
       "      <td>NaN</td>\n",
       "      <td>962</td>\n",
       "    </tr>\n",
       "    <tr>\n",
       "      <th>mean</th>\n",
       "      <td>120871.0</td>\n",
       "      <td>266.9</td>\n",
       "      <td>2025-06-10 08:01:35.077452800</td>\n",
       "      <td>NaN</td>\n",
       "      <td>NaN</td>\n",
       "      <td>NaN</td>\n",
       "      <td>NaN</td>\n",
       "      <td>NaN</td>\n",
       "      <td>1.3</td>\n",
       "      <td>4.9</td>\n",
       "      <td>0.1</td>\n",
       "      <td>0.5</td>\n",
       "      <td>6.7</td>\n",
       "      <td>NaN</td>\n",
       "    </tr>\n",
       "    <tr>\n",
       "      <th>min</th>\n",
       "      <td>120000.0</td>\n",
       "      <td>101.0</td>\n",
       "      <td>2025-04-11 08:32:29</td>\n",
       "      <td>NaN</td>\n",
       "      <td>NaN</td>\n",
       "      <td>NaN</td>\n",
       "      <td>NaN</td>\n",
       "      <td>NaN</td>\n",
       "      <td>1.0</td>\n",
       "      <td>1.3</td>\n",
       "      <td>0.0</td>\n",
       "      <td>0.1</td>\n",
       "      <td>1.3</td>\n",
       "      <td>NaN</td>\n",
       "    </tr>\n",
       "    <tr>\n",
       "      <th>25%</th>\n",
       "      <td>120435.5</td>\n",
       "      <td>103.0</td>\n",
       "      <td>2025-05-11 10:49:24</td>\n",
       "      <td>NaN</td>\n",
       "      <td>NaN</td>\n",
       "      <td>NaN</td>\n",
       "      <td>NaN</td>\n",
       "      <td>NaN</td>\n",
       "      <td>1.0</td>\n",
       "      <td>2.8</td>\n",
       "      <td>0.0</td>\n",
       "      <td>0.2</td>\n",
       "      <td>3.5</td>\n",
       "      <td>NaN</td>\n",
       "    </tr>\n",
       "    <tr>\n",
       "      <th>50%</th>\n",
       "      <td>120871.0</td>\n",
       "      <td>202.0</td>\n",
       "      <td>2025-06-10 11:31:55</td>\n",
       "      <td>NaN</td>\n",
       "      <td>NaN</td>\n",
       "      <td>NaN</td>\n",
       "      <td>NaN</td>\n",
       "      <td>NaN</td>\n",
       "      <td>1.0</td>\n",
       "      <td>4.4</td>\n",
       "      <td>0.0</td>\n",
       "      <td>0.4</td>\n",
       "      <td>5.6</td>\n",
       "      <td>NaN</td>\n",
       "    </tr>\n",
       "    <tr>\n",
       "      <th>75%</th>\n",
       "      <td>121306.5</td>\n",
       "      <td>402.0</td>\n",
       "      <td>2025-07-09 16:23:02</td>\n",
       "      <td>NaN</td>\n",
       "      <td>NaN</td>\n",
       "      <td>NaN</td>\n",
       "      <td>NaN</td>\n",
       "      <td>NaN</td>\n",
       "      <td>1.0</td>\n",
       "      <td>6.2</td>\n",
       "      <td>0.0</td>\n",
       "      <td>0.6</td>\n",
       "      <td>9.3</td>\n",
       "      <td>NaN</td>\n",
       "    </tr>\n",
       "    <tr>\n",
       "      <th>max</th>\n",
       "      <td>121742.0</td>\n",
       "      <td>501.0</td>\n",
       "      <td>2025-08-09 20:49:34</td>\n",
       "      <td>NaN</td>\n",
       "      <td>NaN</td>\n",
       "      <td>NaN</td>\n",
       "      <td>NaN</td>\n",
       "      <td>NaN</td>\n",
       "      <td>4.0</td>\n",
       "      <td>11.2</td>\n",
       "      <td>3.9</td>\n",
       "      <td>2.5</td>\n",
       "      <td>32.7</td>\n",
       "      <td>NaN</td>\n",
       "    </tr>\n",
       "    <tr>\n",
       "      <th>std</th>\n",
       "      <td>503.3</td>\n",
       "      <td>142.2</td>\n",
       "      <td>NaN</td>\n",
       "      <td>NaN</td>\n",
       "      <td>NaN</td>\n",
       "      <td>NaN</td>\n",
       "      <td>NaN</td>\n",
       "      <td>NaN</td>\n",
       "      <td>0.6</td>\n",
       "      <td>2.7</td>\n",
       "      <td>0.3</td>\n",
       "      <td>0.3</td>\n",
       "      <td>4.6</td>\n",
       "      <td>NaN</td>\n",
       "    </tr>\n",
       "  </tbody>\n",
       "</table>\n",
       "</div>"
      ],
      "text/plain": [
       "        order_id  store_id           transaction_datetime business_day  \\\n",
       "count     1743.0    1743.0                           1743         1743   \n",
       "unique       NaN       NaN                            NaN          121   \n",
       "top          NaN       NaN                            NaN   2025-07-16   \n",
       "freq         NaN       NaN                            NaN           24   \n",
       "mean    120871.0     266.9  2025-06-10 08:01:35.077452800          NaN   \n",
       "min     120000.0     101.0            2025-04-11 08:32:29          NaN   \n",
       "25%     120435.5     103.0            2025-05-11 10:49:24          NaN   \n",
       "50%     120871.0     202.0            2025-06-10 11:31:55          NaN   \n",
       "75%     121306.5     402.0            2025-07-09 16:23:02          NaN   \n",
       "max     121742.0     501.0            2025-08-09 20:49:34          NaN   \n",
       "std        503.3     142.2                            NaN          NaN   \n",
       "\n",
       "       daypart service_mode               menu_item     modifier  quantity  \\\n",
       "count     1743         1727                    1743          657    1743.0   \n",
       "unique       6            4                      30           24       NaN   \n",
       "top      Lunch      Dine-In  Chicken Sandwich Combo  Extra Sauce       NaN   \n",
       "freq       508          527                     129           56       NaN   \n",
       "mean       NaN          NaN                     NaN          NaN       1.3   \n",
       "min        NaN          NaN                     NaN          NaN       1.0   \n",
       "25%        NaN          NaN                     NaN          NaN       1.0   \n",
       "50%        NaN          NaN                     NaN          NaN       1.0   \n",
       "75%        NaN          NaN                     NaN          NaN       1.0   \n",
       "max        NaN          NaN                     NaN          NaN       4.0   \n",
       "std        NaN          NaN                     NaN          NaN       0.6   \n",
       "\n",
       "        unit_price  discount     tax  total_amount payment_type  \n",
       "count       1743.0    1704.0  1726.0        1732.0         1702  \n",
       "unique         NaN       NaN     NaN           NaN            4  \n",
       "top            NaN       NaN     NaN           NaN         Card  \n",
       "freq           NaN       NaN     NaN           NaN          962  \n",
       "mean           4.9       0.1     0.5           6.7          NaN  \n",
       "min            1.3       0.0     0.1           1.3          NaN  \n",
       "25%            2.8       0.0     0.2           3.5          NaN  \n",
       "50%            4.4       0.0     0.4           5.6          NaN  \n",
       "75%            6.2       0.0     0.6           9.3          NaN  \n",
       "max           11.2       3.9     2.5          32.7          NaN  \n",
       "std            2.7       0.3     0.3           4.6          NaN  "
      ]
     },
     "metadata": {},
     "output_type": "display_data"
    }
   ],
   "source": [
    "display(len(df_result))      # Check total number of rows\n",
    "display(df_result.shape)     # Check the number of columns\n",
    "print(df_result.columns)     # Check column names\n",
    "\n",
    "display(df_result.shape[1])\n",
    "display(df_result.shape[0])   # only 0=show number of rows and 1=shows number of columns\n",
    "display(df_result.info())     # Check data types and non-null counts\n",
    "display(round(df_result.describe(include='all'), 1))   # Get summary statistics for all columns, rounded to 1 decimal place\n"
   ]
  },
  {
   "cell_type": "markdown",
   "id": "cd47a64e",
   "metadata": {},
   "source": [
    "### 2.Unique - missing values - duplicates\n",
    "\n",
    "```python\n",
    "df['col'].value_counts()   # frequency of each value\n",
    "df['col'].nunique()        # number of unique values\n",
    "df['col'].unique()         # list of unique values\n",
    "df.isna().sum()            # missing values per column\n",
    "df.isna().mean()           # percentage of missing values\n",
    "df.duplicated().sum()          # number of duplicate rows\n",
    "df.drop_duplicates(inplace=True) # remove duplicates\n"
   ]
  },
  {
   "cell_type": "code",
   "execution_count": 88,
   "id": "aee24362",
   "metadata": {},
   "outputs": [
    {
     "data": {
      "text/plain": [
       "order_id                1743\n",
       "store_id                  10\n",
       "transaction_datetime    1743\n",
       "business_day             121\n",
       "daypart                    6\n",
       "service_mode               4\n",
       "menu_item                 30\n",
       "modifier                  24\n",
       "quantity                   4\n",
       "unit_price               676\n",
       "discount                  96\n",
       "tax                      156\n",
       "total_amount             881\n",
       "payment_type               4\n",
       "dtype: int64"
      ]
     },
     "metadata": {},
     "output_type": "display_data"
    },
    {
     "data": {
      "text/plain": [
       "order_id                   0\n",
       "store_id                   0\n",
       "transaction_datetime       0\n",
       "business_day               0\n",
       "daypart                    0\n",
       "service_mode              16\n",
       "menu_item                  0\n",
       "modifier                1086\n",
       "quantity                   0\n",
       "unit_price                 0\n",
       "discount                  39\n",
       "tax                       17\n",
       "total_amount              11\n",
       "payment_type              41\n",
       "dtype: int64"
      ]
     },
     "metadata": {},
     "output_type": "display_data"
    },
    {
     "data": {
      "text/plain": [
       "np.int64(0)"
      ]
     },
     "metadata": {},
     "output_type": "display_data"
    },
    {
     "data": {
      "text/plain": [
       "np.int64(657)"
      ]
     },
     "metadata": {},
     "output_type": "display_data"
    },
    {
     "data": {
      "text/plain": [
       "np.int64(1086)"
      ]
     },
     "metadata": {},
     "output_type": "display_data"
    },
    {
     "data": {
      "text/plain": [
       "modifier\n",
       "None                 1086\n",
       "Extra Sauce            56\n",
       "Cinnamon               53\n",
       "No Sauce               41\n",
       "Sugar-Free Syrup       39\n",
       "No Cheese              39\n",
       "No Pickles             34\n",
       "Extra Ice              33\n",
       "Light Ice              32\n",
       "Almond Milk            29\n",
       "Extra Egg              28\n",
       "Small Size             27\n",
       "Sausage Patty          26\n",
       "Add Jalapenos          25\n",
       "Add Bacon              25\n",
       "No Ice                 24\n",
       "Gluten-Free Bun        23\n",
       "Spicy                  22\n",
       "No Onions              20\n",
       "Large Size             20\n",
       "Oat Milk               17\n",
       "Extra Cheese           17\n",
       "Extra Patty            13\n",
       "Caramel Topping         9\n",
       "Chocolate Topping       5\n",
       "Name: count, dtype: int64"
      ]
     },
     "metadata": {},
     "output_type": "display_data"
    },
    {
     "data": {
      "text/plain": [
       "modifier\n",
       "None                 0.623\n",
       "Extra Sauce          0.032\n",
       "Cinnamon             0.030\n",
       "No Sauce             0.024\n",
       "Sugar-Free Syrup     0.022\n",
       "No Cheese            0.022\n",
       "No Pickles           0.020\n",
       "Extra Ice            0.019\n",
       "Light Ice            0.018\n",
       "Almond Milk          0.017\n",
       "Extra Egg            0.016\n",
       "Small Size           0.015\n",
       "Sausage Patty        0.015\n",
       "Add Jalapenos        0.014\n",
       "Add Bacon            0.014\n",
       "No Ice               0.014\n",
       "Gluten-Free Bun      0.013\n",
       "Spicy                0.013\n",
       "No Onions            0.011\n",
       "Large Size           0.011\n",
       "Oat Milk             0.010\n",
       "Extra Cheese         0.010\n",
       "Extra Patty          0.007\n",
       "Caramel Topping      0.005\n",
       "Chocolate Topping    0.003\n",
       "Name: proportion, dtype: float64"
      ]
     },
     "metadata": {},
     "output_type": "display_data"
    }
   ],
   "source": [
    "display(df_result.nunique())                            # Check number of unique values in each column\n",
    "display(df_result.isnull().sum())                          # Check for missing values in each column\n",
    "display(df_result.duplicated().sum())                      # Check for duplicate rows\n",
    "display(df_result['modifier'].count())                     # Count non-null entries in 'modifier' column\n",
    "#display(df_result['modifier'].isna())                     # Boolean Series indicating NaN values in 'modifier' column\n",
    "display(df_result['modifier'].isna().sum())                # Count of NaN alues in 'modifier' column\n",
    "display(df_result['modifier'].value_counts(dropna=False, ascending=False))  # Frequency of each unique value in 'modifier' column, including NaN\n",
    "display(df_result['modifier'].value_counts(normalize=True, dropna=False).round(3))  # Relative frequency of each unique value in 'modifier' column, including NaN, normalized to proportions (%) and rounded(4)\"\"\"\n"
   ]
  },
  {
   "cell_type": "markdown",
   "id": "02b90f9e",
   "metadata": {},
   "source": [
    "### 3.Statistics\n",
    "\n",
    "```python\n",
    "df.describe()             # mean, std, min, max, quartiles\n",
    "df['col'].mean()          # mean of a column\n",
    "df['col'].median()        # median\n",
    "df['col'].mode()          # most frequent value(s)\n",
    "df['col'].var()           # variance\n",
    "df['col'].std()           # standard deviation\n",
    "df['col'].skew()          # skewness (asymmetry)\n",
    "df['col'].kurtosis()      # kurtosis (tailedness)"
   ]
  },
  {
   "cell_type": "code",
   "execution_count": 87,
   "id": "2521e423",
   "metadata": {},
   "outputs": [
    {
     "data": {
      "text/plain": [
       "np.float64(1.32)"
      ]
     },
     "metadata": {},
     "output_type": "display_data"
    },
    {
     "data": {
      "text/plain": [
       "np.float64(32.69)"
      ]
     },
     "metadata": {},
     "output_type": "display_data"
    },
    {
     "data": {
      "text/plain": [
       "np.float64(6.71)"
      ]
     },
     "metadata": {},
     "output_type": "display_data"
    },
    {
     "data": {
      "text/plain": [
       "np.float64(4.58)"
      ]
     },
     "metadata": {},
     "output_type": "display_data"
    },
    {
     "data": {
      "text/plain": [
       "0    1.89\n",
       "1    2.97\n",
       "Name: total_amount, dtype: float64"
      ]
     },
     "metadata": {},
     "output_type": "display_data"
    },
    {
     "data": {
      "text/plain": [
       "np.float64(5.64)"
      ]
     },
     "metadata": {},
     "output_type": "display_data"
    },
    {
     "data": {
      "text/plain": [
       "np.float64(20.95)"
      ]
     },
     "metadata": {},
     "output_type": "display_data"
    },
    {
     "data": {
      "text/plain": [
       "'display(df_result[\\'total_amount\\'].quantile([0.25, 0.5, 0.75]).round(2))  # 25th, 50th, and 75th percentiles of \\'total_amount\\' column\\n\\ndisplay(df_result[\\'total_amount\\'].skew().round(2))        # Skewness (asymmetry) of \\'total_amount\\' column data, means: negative=left skewed, positive=right skewed, means: \\n                                                          # if skewness is close to 0, data is symmetric, otherwise data is skewed: > 0: right skewed (bigger values), < 0: left skewed (smaller values)\\ndisplay(df_result[\\'total_amount\\'].kurtosis().round(2))    # Kurtosis: \"tailedness\" of \\'total_amount\\' column data, means: high kurtosis (>3) = heavy tails, low kurtosis (<3) = light tails\\n                                                          # Normal distribution has kurtosis of 3.0. If kurtosis is >3, distribution has heavier tails and sharper peak than normal distribution. If kurtosis is <3, distribution has lighter tails and flatter peak than normal distribution.\\n                                                          # Kurtosis helps to understand the extremity of outliers in the data distribution.'"
      ]
     },
     "execution_count": 87,
     "metadata": {},
     "output_type": "execute_result"
    }
   ],
   "source": [
    "display(round(df_result['total_amount'].min(), 2), \n",
    "        round(df_result['total_amount'].max(), 2), \n",
    "        round(df_result['total_amount'].mean(), 2), \n",
    "        round(df_result['total_amount'].std(), 2),        # Min, max, and mean of 'total_amount' column\n",
    "        (df_result['total_amount'].mode()))               # count how many modes there are in 'total_amount' column (can be more than one mode) \n",
    "display(df_result['total_amount'].median())               # Median of 'total_amount' column, means: middle value when data is sorted\n",
    "display(df_result['total_amount'].var().round(2))        # Variance of 'total_amount' column, means: how far a set of numbers is spread out from their average value\n",
    "\n",
    "\"\"\"display(df_result['total_amount'].quantile([0.25, 0.5, 0.75]).round(2))  # 25th, 50th, and 75th percentiles of 'total_amount' column\n",
    "\n",
    "display(df_result['total_amount'].skew().round(2))        # Skewness (asymmetry) of 'total_amount' column data, means: negative=left skewed, positive=right skewed, means: \n",
    "                                                          # if skewness is close to 0, data is symmetric, otherwise data is skewed: > 0: right skewed (bigger values), < 0: left skewed (smaller values)\n",
    "display(df_result['total_amount'].kurtosis().round(2))    # Kurtosis: \"tailedness\" of 'total_amount' column data, means: high kurtosis (>3) = heavy tails, low kurtosis (<3) = light tails\n",
    "                                                          # Normal distribution has kurtosis of 3.0. If kurtosis is >3, distribution has heavier tails and sharper peak than normal distribution. If kurtosis is <3, distribution has lighter tails and flatter peak than normal distribution.\n",
    "                                                          # Kurtosis helps to understand the extremity of outliers in the data distribution.\"\"\""
   ]
  },
  {
   "cell_type": "code",
   "execution_count": 97,
   "id": "21fe22d1",
   "metadata": {},
   "outputs": [
    {
     "data": {
      "text/html": [
       "<div>\n",
       "<style scoped>\n",
       "    .dataframe tbody tr th:only-of-type {\n",
       "        vertical-align: middle;\n",
       "    }\n",
       "\n",
       "    .dataframe tbody tr th {\n",
       "        vertical-align: top;\n",
       "    }\n",
       "\n",
       "    .dataframe thead th {\n",
       "        text-align: right;\n",
       "    }\n",
       "</style>\n",
       "<table border=\"1\" class=\"dataframe\">\n",
       "  <thead>\n",
       "    <tr style=\"text-align: right;\">\n",
       "      <th></th>\n",
       "      <th>order_id</th>\n",
       "      <th>store_id</th>\n",
       "      <th>quantity</th>\n",
       "      <th>unit_price</th>\n",
       "      <th>discount</th>\n",
       "      <th>tax</th>\n",
       "      <th>total_amount</th>\n",
       "    </tr>\n",
       "  </thead>\n",
       "  <tbody>\n",
       "    <tr>\n",
       "      <th>order_id</th>\n",
       "      <td>1.000000</td>\n",
       "      <td>0.023760</td>\n",
       "      <td>0.037516</td>\n",
       "      <td>0.012403</td>\n",
       "      <td>0.047185</td>\n",
       "      <td>0.007929</td>\n",
       "      <td>0.013449</td>\n",
       "    </tr>\n",
       "    <tr>\n",
       "      <th>store_id</th>\n",
       "      <td>0.023760</td>\n",
       "      <td>1.000000</td>\n",
       "      <td>0.007907</td>\n",
       "      <td>0.027566</td>\n",
       "      <td>0.023322</td>\n",
       "      <td>0.027272</td>\n",
       "      <td>0.027110</td>\n",
       "    </tr>\n",
       "    <tr>\n",
       "      <th>quantity</th>\n",
       "      <td>0.037516</td>\n",
       "      <td>0.007907</td>\n",
       "      <td>1.000000</td>\n",
       "      <td>-0.081007</td>\n",
       "      <td>0.053633</td>\n",
       "      <td>0.511906</td>\n",
       "      <td>0.536488</td>\n",
       "    </tr>\n",
       "    <tr>\n",
       "      <th>unit_price</th>\n",
       "      <td>0.012403</td>\n",
       "      <td>0.027566</td>\n",
       "      <td>-0.081007</td>\n",
       "      <td>1.000000</td>\n",
       "      <td>0.098101</td>\n",
       "      <td>0.705117</td>\n",
       "      <td>0.719485</td>\n",
       "    </tr>\n",
       "    <tr>\n",
       "      <th>discount</th>\n",
       "      <td>0.047185</td>\n",
       "      <td>0.023322</td>\n",
       "      <td>0.053633</td>\n",
       "      <td>0.098101</td>\n",
       "      <td>1.000000</td>\n",
       "      <td>0.052331</td>\n",
       "      <td>0.051486</td>\n",
       "    </tr>\n",
       "    <tr>\n",
       "      <th>tax</th>\n",
       "      <td>0.007929</td>\n",
       "      <td>0.027272</td>\n",
       "      <td>0.511906</td>\n",
       "      <td>0.705117</td>\n",
       "      <td>0.052331</td>\n",
       "      <td>1.000000</td>\n",
       "      <td>0.973782</td>\n",
       "    </tr>\n",
       "    <tr>\n",
       "      <th>total_amount</th>\n",
       "      <td>0.013449</td>\n",
       "      <td>0.027110</td>\n",
       "      <td>0.536488</td>\n",
       "      <td>0.719485</td>\n",
       "      <td>0.051486</td>\n",
       "      <td>0.973782</td>\n",
       "      <td>1.000000</td>\n",
       "    </tr>\n",
       "  </tbody>\n",
       "</table>\n",
       "</div>"
      ],
      "text/plain": [
       "              order_id  store_id  quantity  unit_price  discount       tax  \\\n",
       "order_id      1.000000  0.023760  0.037516    0.012403  0.047185  0.007929   \n",
       "store_id      0.023760  1.000000  0.007907    0.027566  0.023322  0.027272   \n",
       "quantity      0.037516  0.007907  1.000000   -0.081007  0.053633  0.511906   \n",
       "unit_price    0.012403  0.027566 -0.081007    1.000000  0.098101  0.705117   \n",
       "discount      0.047185  0.023322  0.053633    0.098101  1.000000  0.052331   \n",
       "tax           0.007929  0.027272  0.511906    0.705117  0.052331  1.000000   \n",
       "total_amount  0.013449  0.027110  0.536488    0.719485  0.051486  0.973782   \n",
       "\n",
       "              total_amount  \n",
       "order_id          0.013449  \n",
       "store_id          0.027110  \n",
       "quantity          0.536488  \n",
       "unit_price        0.719485  \n",
       "discount          0.051486  \n",
       "tax               0.973782  \n",
       "total_amount      1.000000  "
      ]
     },
     "metadata": {},
     "output_type": "display_data"
    },
    {
     "data": {
      "text/plain": [
       "total_amount\n",
       "1.32     1.0\n",
       "1.34     1.0\n",
       "1.37     1.0\n",
       "1.43     1.0\n",
       "1.44     1.0\n",
       "        ... \n",
       "30.69    3.0\n",
       "30.82    3.0\n",
       "31.77    3.0\n",
       "32.32    3.0\n",
       "32.69    3.0\n",
       "Name: quantity, Length: 881, dtype: float64"
      ]
     },
     "metadata": {},
     "output_type": "display_data"
    }
   ],
   "source": [
    "# Only include numerical columns for correlation\n",
    "display(df_result.select_dtypes(include=['number']).corr())  # correlation matrix for numerical columns\n",
    "\n",
    "# Example groupby: mean quantity per total_amount\n",
    "display(df_result.groupby('total_amount')['quantity'].mean().round(1))  # Average quantity sold per total_amount value, rounded to 1 decimal place"
   ]
  }
 ],
 "metadata": {
  "kernelspec": {
   "display_name": "Python 3",
   "language": "python",
   "name": "python3"
  },
  "language_info": {
   "codemirror_mode": {
    "name": "ipython",
    "version": 3
   },
   "file_extension": ".py",
   "mimetype": "text/x-python",
   "name": "python",
   "nbconvert_exporter": "python",
   "pygments_lexer": "ipython3",
   "version": "3.13.2"
  }
 },
 "nbformat": 4,
 "nbformat_minor": 5
}
